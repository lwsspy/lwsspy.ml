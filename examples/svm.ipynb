{
 "cells": [
  {
   "cell_type": "code",
   "execution_count": 7,
   "metadata": {},
   "outputs": [],
   "source": [
    "from imblearn.under_sampling import RandomUnderSampler\n",
    "from sklearn import svm\n",
    "import matplotlib.pyplot as plt\n",
    "from lwsspy.ml.dataset.svm import CCP2DF, plot_df\n",
    "import hvplot.pandas  # noqa\n"
   ]
  },
  {
   "cell_type": "code",
   "execution_count": 4,
   "metadata": {},
   "outputs": [
    {
     "name": "stdout",
     "output_type": "stream",
     "text": [
      "Computing local mean, std ...\n",
      "Computing slice means ...\n",
      "Computing slice vars ...\n",
      "Computing slice std\n",
      "Summarizing in Dataframe\n"
     ]
    }
   ],
   "source": [
    "# Load ccp data\n",
    "df = CCP2DF()\n"
   ]
  },
  {
   "cell_type": "code",
   "execution_count": 11,
   "metadata": {},
   "outputs": [],
   "source": [
    "# Subsample\n",
    "df = df.dropna()\n",
    "X = df[df.columns[:-1]]\n",
    "y = df['target']\n",
    "rus = RandomUnderSampler(sampling_strategy='all')\n",
    "Xr, yr = rus.fit_resample(X, y)\n",
    "\n",
    "dfr = Xr.copy()\n",
    "dfr['target'] = yr\n",
    "\n"
   ]
  },
  {
   "cell_type": "code",
   "execution_count": 13,
   "metadata": {},
   "outputs": [],
   "source": [
    "\n",
    "from sklearn import svm\n",
    "clf = svm.SVC(decision_function_shape='ovo')\n",
    "\n"
   ]
  },
  {
   "cell_type": "code",
   "execution_count": 15,
   "metadata": {},
   "outputs": [],
   "source": [
    "\n",
    "svc = clf.fit(Xr, yr)\n",
    "\n",
    "\n"
   ]
  },
  {
   "cell_type": "code",
   "execution_count": 16,
   "metadata": {},
   "outputs": [],
   "source": [
    "y = svc.predict(X)\n"
   ]
  }
 ],
 "metadata": {
  "interpreter": {
   "hash": "be6a1476dfb256cad19ef59a48d4d2769b3f537c49e4a8db0382fef98b26d5fe"
  },
  "kernelspec": {
   "display_name": "Python 3.8.12 64-bit ('lwsspy': conda)",
   "language": "python",
   "name": "python3"
  },
  "language_info": {
   "codemirror_mode": {
    "name": "ipython",
    "version": 3
   },
   "file_extension": ".py",
   "mimetype": "text/x-python",
   "name": "python",
   "nbconvert_exporter": "python",
   "pygments_lexer": "ipython3",
   "version": "3.8.12"
  },
  "orig_nbformat": 4
 },
 "nbformat": 4,
 "nbformat_minor": 2
}
